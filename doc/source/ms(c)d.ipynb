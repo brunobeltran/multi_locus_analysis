{
 "cells": [
  {
   "cell_type": "markdown",
   "metadata": {
    "toc": "true"
   },
   "source": [
    "# Table of Contents\n",
    " <p><div class=\"lev2\"><a href=\"#MS(C)Ds-Measure-Confinement\"><span class=\"toc-item-num\">0.1&nbsp;&nbsp;</span>MS(C)Ds Measure Confinement</a></div><div class=\"lev2\"><a href=\"#Simulation-MS(C)Ds\"><span class=\"toc-item-num\">0.2&nbsp;&nbsp;</span>Simulation MS(C)Ds</a></div>"
   ]
  },
  {
   "cell_type": "code",
   "execution_count": 3,
   "metadata": {},
   "outputs": [],
   "source": [
    "import numpy as np\n",
    "import matplotlib as mpl\n",
    "import matplotlib.pyplot as plt\n",
    "import pandas as pd\n",
    "import seaborn as sns\n",
    "\n",
    "import multi_locus_analysis as mla\n",
    "import multi_locus_analysis.examples.burgess as burgess\n",
    "from multi_locus_analysis.examples.burgess import msds"
   ]
  },
  {
   "cell_type": "markdown",
   "metadata": {},
   "source": [
    "## MS(C)Ds Measure Confinement"
   ]
  },
  {
   "cell_type": "code",
   "execution_count": null,
   "metadata": {},
   "outputs": [],
   "source": [
    "abs_msd = msds.msd(burgess.df, mscd=False, include_z=True, \n",
    "                   traj_group=burgess.cell_cols, \n",
    "                   groups=burgess.cell_cols, deltas=[30, 60, 90, 120])"
   ]
  },
  {
   "cell_type": "code",
   "execution_count": 5,
   "metadata": {},
   "outputs": [
    {
     "data": {
      "text/html": [
       "<div>\n",
       "<style scoped>\n",
       "    .dataframe tbody tr th:only-of-type {\n",
       "        vertical-align: middle;\n",
       "    }\n",
       "\n",
       "    .dataframe tbody tr th {\n",
       "        vertical-align: top;\n",
       "    }\n",
       "\n",
       "    .dataframe thead th {\n",
       "        text-align: right;\n",
       "    }\n",
       "</style>\n",
       "<table border=\"1\" class=\"dataframe\">\n",
       "  <thead>\n",
       "    <tr style=\"text-align: right;\">\n",
       "      <th></th>\n",
       "      <th></th>\n",
       "      <th></th>\n",
       "      <th></th>\n",
       "      <th></th>\n",
       "      <th></th>\n",
       "      <th>mean</th>\n",
       "      <th>std</th>\n",
       "      <th>count</th>\n",
       "      <th>ste</th>\n",
       "      <th>ste_norm</th>\n",
       "    </tr>\n",
       "    <tr>\n",
       "      <th>locus</th>\n",
       "      <th>genotype</th>\n",
       "      <th>exp.rep</th>\n",
       "      <th>meiosis</th>\n",
       "      <th>cell</th>\n",
       "      <th>delta</th>\n",
       "      <th></th>\n",
       "      <th></th>\n",
       "      <th></th>\n",
       "      <th></th>\n",
       "      <th></th>\n",
       "    </tr>\n",
       "  </thead>\n",
       "  <tbody>\n",
       "    <tr>\n",
       "      <td rowspan=\"5\" valign=\"top\">HET5</td>\n",
       "      <td rowspan=\"5\" valign=\"top\">WT</td>\n",
       "      <td rowspan=\"5\" valign=\"top\">2</td>\n",
       "      <td rowspan=\"5\" valign=\"top\">t0</td>\n",
       "      <td rowspan=\"4\" valign=\"top\">1</td>\n",
       "      <td>30</td>\n",
       "      <td>0.942050</td>\n",
       "      <td>0.511833</td>\n",
       "      <td>188</td>\n",
       "      <td>0.037429</td>\n",
       "      <td>0.037379</td>\n",
       "    </tr>\n",
       "    <tr>\n",
       "      <td>60</td>\n",
       "      <td>1.046405</td>\n",
       "      <td>0.524870</td>\n",
       "      <td>184</td>\n",
       "      <td>0.038799</td>\n",
       "      <td>0.038747</td>\n",
       "    </tr>\n",
       "    <tr>\n",
       "      <td>90</td>\n",
       "      <td>1.156547</td>\n",
       "      <td>0.529612</td>\n",
       "      <td>180</td>\n",
       "      <td>0.039585</td>\n",
       "      <td>0.039530</td>\n",
       "    </tr>\n",
       "    <tr>\n",
       "      <td>120</td>\n",
       "      <td>1.231244</td>\n",
       "      <td>0.563293</td>\n",
       "      <td>176</td>\n",
       "      <td>0.042581</td>\n",
       "      <td>0.042520</td>\n",
       "    </tr>\n",
       "    <tr>\n",
       "      <td>7</td>\n",
       "      <td>30</td>\n",
       "      <td>1.151317</td>\n",
       "      <td>0.577355</td>\n",
       "      <td>196</td>\n",
       "      <td>0.041345</td>\n",
       "      <td>0.041292</td>\n",
       "    </tr>\n",
       "  </tbody>\n",
       "</table>\n",
       "</div>"
      ],
      "text/plain": [
       "                                               mean       std  count  \\\n",
       "locus genotype exp.rep meiosis cell delta                              \n",
       "HET5  WT       2       t0      1    30     0.942050  0.511833    188   \n",
       "                                    60     1.046405  0.524870    184   \n",
       "                                    90     1.156547  0.529612    180   \n",
       "                                    120    1.231244  0.563293    176   \n",
       "                               7    30     1.151317  0.577355    196   \n",
       "\n",
       "                                                ste  ste_norm  \n",
       "locus genotype exp.rep meiosis cell delta                      \n",
       "HET5  WT       2       t0      1    30     0.037429  0.037379  \n",
       "                                    60     0.038799  0.038747  \n",
       "                                    90     0.039585  0.039530  \n",
       "                                    120    0.042581  0.042520  \n",
       "                               7    30     0.041345  0.041292  "
      ]
     },
     "execution_count": 5,
     "metadata": {},
     "output_type": "execute_result"
    }
   ],
   "source": [
    "abs_msd.head()"
   ]
  },
  {
   "cell_type": "code",
   "execution_count": 7,
   "metadata": {},
   "outputs": [
    {
     "data": {
      "image/png": "[encoded data removed]",
      "text/plain": [
       "<Figure size 432x288 with 1 Axes>"
      ]
     },
     "metadata": {
      "needs_background": "light"
     },
     "output_type": "display_data"
    }
   ],
   "source": [
    "for d, m in abs_msd.groupby('delta')['mean']:\n",
    "    np.sqrt(m).hist(histtype='step')"
   ]
  },
  {
   "cell_type": "code",
   "execution_count": 9,
   "metadata": {},
   "outputs": [],
   "source": [
    "mscds = msds.msd(burgess.df_flat, mscd=True, include_z=True, \n",
    "                   traj_group=burgess.cell_cols, \n",
    "                   groups=burgess.cell_cols, deltas=[30, 60, 90, 120])"
   ]
  },
  {
   "cell_type": "code",
   "execution_count": 10,
   "metadata": {},
   "outputs": [
    {
     "data": {
      "image/png": "[encoded data removed]",
      "text/plain": [
       "<Figure size 432x288 with 1 Axes>"
      ]
     },
     "metadata": {
      "needs_background": "light"
     },
     "output_type": "display_data"
    }
   ],
   "source": [
    "for d, m in mscds.groupby('delta')['mean']:\n",
    "    np.sqrt(m).hist(histtype='step')"
   ]
  },
  {
   "cell_type": "code",
   "execution_count": 15,
   "metadata": {},
   "outputs": [
    {
     "data": {
      "image/png": "[encoded data removed]",
      "text/plain": [
       "<Figure size 432x288 with 1 Axes>"
      ]
     },
     "metadata": {
      "needs_background": "light"
     },
     "output_type": "display_data"
    }
   ],
   "source": [
    "for d, m in abs_msd.groupby('delta')['mean']:\n",
    "    np.sqrt(m).hist(histtype='step', color='r', normed=1)\n",
    "for d, m in mscds.groupby('delta')['mean']:\n",
    "    np.sqrt(m).hist(histtype='step', color='g', normed=1)\n",
    "    "
   ]
  },
  {
   "cell_type": "code",
   "execution_count": null,
   "metadata": {},
   "outputs": [],
   "source": []
  },
  {
   "cell_type": "markdown",
   "metadata": {},
   "source": [
    "## Simulation MS(C)Ds"
   ]
  },
  {
   "cell_type": "code",
   "execution_count": null,
   "metadata": {},
   "outputs": [],
   "source": []
  }
 ],
 "metadata": {
  "kernelspec": {
   "display_name": "Python 3",
   "language": "python",
   "name": "python3"
  },
  "language_info": {
   "codemirror_mode": {
    "name": "ipython",
    "version": 3
   },
   "file_extension": ".py",
   "mimetype": "text/x-python",
   "name": "python",
   "nbconvert_exporter": "python",
   "pygments_lexer": "ipython3",
   "version": "3.7.3"
  },
  "toc": {
   "toc_cell": true,
   "toc_number_sections": true,
   "toc_threshold": 6,
   "toc_window_display": false
  }
 },
 "nbformat": 4,
 "nbformat_minor": 2
}
