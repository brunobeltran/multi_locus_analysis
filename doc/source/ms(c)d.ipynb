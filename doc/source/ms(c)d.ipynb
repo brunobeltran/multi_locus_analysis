{
 "cells": [
  {
   "cell_type": "markdown",
   "metadata": {
    "toc": "true"
   },
   "source": [
    "# Table of Contents\n",
    " <p><div class=\"lev2\"><a href=\"#Individual-Trajectories-are-Confined\"><span class=\"toc-item-num\">0.1&nbsp;&nbsp;</span>Individual Trajectories are Confined</a></div><div class=\"lev2\"><a href=\"#MS(C)Ds-Measure-Confinement\"><span class=\"toc-item-num\">0.2&nbsp;&nbsp;</span>MS(C)Ds Measure Confinement</a></div><div class=\"lev3\"><a href=\"#MSCDs\"><span class=\"toc-item-num\">0.2.1&nbsp;&nbsp;</span>MSCDs</a></div><div class=\"lev3\"><a href=\"#MSDs\"><span class=\"toc-item-num\">0.2.2&nbsp;&nbsp;</span>MSDs</a></div><div class=\"lev2\"><a href=\"#TODO:-figure-out-what-the-above-histogram-should-look-like-if-the-loops-locations-are-Poisson-(as-in-simulation)\"><span class=\"toc-item-num\">0.3&nbsp;&nbsp;</span>TODO: figure out what the above histogram should look like if the loops locations are Poisson (as in simulation)</a></div><div class=\"lev2\"><a href=\"#Simulation-MS(C)Ds\"><span class=\"toc-item-num\">0.4&nbsp;&nbsp;</span>Simulation MS(C)Ds</a></div><div class=\"lev2\"><a href=\"#Data-MS(C)Ds\"><span class=\"toc-item-num\">0.5&nbsp;&nbsp;</span>Data MS(C)Ds</a></div>"
   ]
  },
  {
   "cell_type": "code",
   "execution_count": 2,
   "metadata": {},
   "outputs": [],
   "source": [
    "from pathlib import Path\n",
    "\n",
    "import numpy as np\n",
    "import matplotlib as mpl\n",
    "import matplotlib.pyplot as plt\n",
    "import pandas as pd\n",
    "import seaborn as sns\n",
    "\n",
    "import multi_locus_analysis as mla\n",
    "import multi_locus_analysis.examples.burgess as burgess\n",
    "from multi_locus_analysis.examples.burgess import msds"
   ]
  },
  {
   "cell_type": "markdown",
   "metadata": {},
   "source": [
    "## Individual Trajectories are Confined"
   ]
  },
  {
   "cell_type": "code",
   "execution_count": null,
   "metadata": {},
   "outputs": [],
   "source": [
    "msds = pd.read_csv(burgess.burgess_dir / Path('msds_vel_double_counted.csv'))"
   ]
  },
  {
   "cell_type": "code",
   "execution_count": null,
   "metadata": {},
   "outputs": [],
   "source": [
    "mscds = pd.read_csv(burgess.burgess_dir / Path('msds_dvel_double_counted.csv'))"
   ]
  },
  {
   "cell_type": "markdown",
   "metadata": {},
   "source": [
    "## MS(C)Ds Measure Confinement"
   ]
  },
  {
   "cell_type": "code",
   "execution_count": 3,
   "metadata": {},
   "outputs": [
    {
     "name": "stderr",
     "output_type": "stream",
     "text": [
      "/home/bbeltr1/.miniconda/lib/python3.7/site-packages/pandas/core/series.py:853: RuntimeWarning: invalid value encountered in sqrt\n",
      "  result = getattr(ufunc, method)(*inputs, **kwargs)\n"
     ]
    }
   ],
   "source": [
    "abs_msd = msds.msd(burgess.df, mscd=False, include_z=True, \n",
    "                   traj_group=burgess.cell_cols, \n",
    "                   groups=burgess.cell_cols, deltas=[30, 60, 90, 120])"
   ]
  },
  {
   "cell_type": "code",
   "execution_count": 3,
   "metadata": {},
   "outputs": [
    {
     "data": {
      "text/html": [
       "<div>\n",
       "<style scoped>\n",
       "    .dataframe tbody tr th:only-of-type {\n",
       "        vertical-align: middle;\n",
       "    }\n",
       "\n",
       "    .dataframe tbody tr th {\n",
       "        vertical-align: top;\n",
       "    }\n",
       "\n",
       "    .dataframe thead th {\n",
       "        text-align: right;\n",
       "    }\n",
       "</style>\n",
       "<table border=\"1\" class=\"dataframe\">\n",
       "  <thead>\n",
       "    <tr style=\"text-align: right;\">\n",
       "      <th></th>\n",
       "      <th></th>\n",
       "      <th></th>\n",
       "      <th></th>\n",
       "      <th></th>\n",
       "      <th></th>\n",
       "      <th>mean</th>\n",
       "      <th>std</th>\n",
       "      <th>count</th>\n",
       "      <th>ste</th>\n",
       "      <th>ste_norm</th>\n",
       "    </tr>\n",
       "    <tr>\n",
       "      <th>locus</th>\n",
       "      <th>genotype</th>\n",
       "      <th>exp.rep</th>\n",
       "      <th>meiosis</th>\n",
       "      <th>cell</th>\n",
       "      <th>delta</th>\n",
       "      <th></th>\n",
       "      <th></th>\n",
       "      <th></th>\n",
       "      <th></th>\n",
       "      <th></th>\n",
       "    </tr>\n",
       "  </thead>\n",
       "  <tbody>\n",
       "    <tr>\n",
       "      <td rowspan=\"5\" valign=\"top\">HET5</td>\n",
       "      <td rowspan=\"5\" valign=\"top\">WT</td>\n",
       "      <td rowspan=\"5\" valign=\"top\">2</td>\n",
       "      <td rowspan=\"5\" valign=\"top\">t0</td>\n",
       "      <td rowspan=\"4\" valign=\"top\">1</td>\n",
       "      <td>30</td>\n",
       "      <td>0.942050</td>\n",
       "      <td>0.511833</td>\n",
       "      <td>188</td>\n",
       "      <td>0.037429</td>\n",
       "      <td>0.037379</td>\n",
       "    </tr>\n",
       "    <tr>\n",
       "      <td>60</td>\n",
       "      <td>1.046405</td>\n",
       "      <td>0.524870</td>\n",
       "      <td>184</td>\n",
       "      <td>0.038799</td>\n",
       "      <td>0.038747</td>\n",
       "    </tr>\n",
       "    <tr>\n",
       "      <td>90</td>\n",
       "      <td>1.156547</td>\n",
       "      <td>0.529612</td>\n",
       "      <td>180</td>\n",
       "      <td>0.039585</td>\n",
       "      <td>0.039530</td>\n",
       "    </tr>\n",
       "    <tr>\n",
       "      <td>120</td>\n",
       "      <td>1.231244</td>\n",
       "      <td>0.563293</td>\n",
       "      <td>176</td>\n",
       "      <td>0.042581</td>\n",
       "      <td>0.042520</td>\n",
       "    </tr>\n",
       "    <tr>\n",
       "      <td>7</td>\n",
       "      <td>30</td>\n",
       "      <td>1.151317</td>\n",
       "      <td>0.577355</td>\n",
       "      <td>196</td>\n",
       "      <td>0.041345</td>\n",
       "      <td>0.041292</td>\n",
       "    </tr>\n",
       "  </tbody>\n",
       "</table>\n",
       "</div>"
      ],
      "text/plain": [
       "                                               mean       std  count  \\\n",
       "locus genotype exp.rep meiosis cell delta                              \n",
       "HET5  WT       2       t0      1    30     0.942050  0.511833    188   \n",
       "                                    60     1.046405  0.524870    184   \n",
       "                                    90     1.156547  0.529612    180   \n",
       "                                    120    1.231244  0.563293    176   \n",
       "                               7    30     1.151317  0.577355    196   \n",
       "\n",
       "                                                ste  ste_norm  \n",
       "locus genotype exp.rep meiosis cell delta                      \n",
       "HET5  WT       2       t0      1    30     0.037429  0.037379  \n",
       "                                    60     0.038799  0.038747  \n",
       "                                    90     0.039585  0.039530  \n",
       "                                    120    0.042581  0.042520  \n",
       "                               7    30     0.041345  0.041292  "
      ]
     },
     "execution_count": 3,
     "metadata": {},
     "output_type": "execute_result"
    }
   ],
   "source": [
    "abs_msd.head()"
   ]
  },
  {
   "cell_type": "code",
   "execution_count": 17,
   "metadata": {},
   "outputs": [
    {
     "data": {
      "image/png": "[encoded data removed]",
      "text/plain": [
       "<Figure size 432x288 with 1 Axes>"
      ]
     },
     "metadata": {
      "needs_background": "light"
     },
     "output_type": "display_data"
    }
   ],
   "source": [
    "for d, m in abs_msd.groupby('delta')['mean']:\n",
    "    np.sqrt(m).hist(histtype='step')"
   ]
  },
  {
   "cell_type": "code",
   "execution_count": 18,
   "metadata": {},
   "outputs": [
    {
     "data": {
      "image/png": "[encoded data removed]",
      "text/plain": [
       "<Figure size 432x288 with 1 Axes>"
      ]
     },
     "metadata": {
      "needs_background": "light"
     },
     "output_type": "display_data"
    }
   ],
   "source": [
    "for d, m in abs_msd.groupby('delta')['mean']:\n",
    "    m.hist(histtype='step')"
   ]
  },
  {
   "cell_type": "code",
   "execution_count": 5,
   "metadata": {},
   "outputs": [],
   "source": [
    "mscds = msds.msd(burgess.df_flat, mscd=True, include_z=True, \n",
    "                   traj_group=burgess.cell_cols, \n",
    "                   groups=burgess.cell_cols, deltas=[30, 60, 90, 120])"
   ]
  },
  {
   "cell_type": "code",
   "execution_count": 6,
   "metadata": {},
   "outputs": [
    {
     "data": {
      "image/png": "[encoded data removed]",
      "text/plain": [
       "<Figure size 432x288 with 1 Axes>"
      ]
     },
     "metadata": {
      "needs_background": "light"
     },
     "output_type": "display_data"
    }
   ],
   "source": [
    "for d, m in mscds.groupby('delta')['mean']:\n",
    "    np.sqrt(m).hist(histtype='step')"
   ]
  },
  {
   "cell_type": "markdown",
   "metadata": {},
   "source": [
    "### MSCDs"
   ]
  },
  {
   "cell_type": "code",
   "execution_count": 1,
   "metadata": {},
   "outputs": [
    {
     "ename": "NameError",
     "evalue": "name 'plt' is not defined",
     "output_type": "error",
     "traceback": [
      "\u001b[0;31m---------------------------------------------------------------------------\u001b[0m",
      "\u001b[0;31mNameError\u001b[0m                                 Traceback (most recent call last)",
      "\u001b[0;32m<ipython-input-1-826c147abe89>\u001b[0m in \u001b[0;36m<module>\u001b[0;34m\u001b[0m\n\u001b[0;32m----> 1\u001b[0;31m \u001b[0mplt\u001b[0m\u001b[0;34m.\u001b[0m\u001b[0mfigure\u001b[0m\u001b[0;34m(\u001b[0m\u001b[0;34m)\u001b[0m\u001b[0;34m\u001b[0m\u001b[0;34m\u001b[0m\u001b[0m\n\u001b[0m\u001b[1;32m      2\u001b[0m \u001b[0mcmap\u001b[0m \u001b[0;34m=\u001b[0m  \u001b[0mmpl\u001b[0m\u001b[0;34m.\u001b[0m\u001b[0mcm\u001b[0m\u001b[0;34m.\u001b[0m\u001b[0mget_cmap\u001b[0m\u001b[0;34m(\u001b[0m\u001b[0;34m'viridis'\u001b[0m\u001b[0;34m)\u001b[0m\u001b[0;34m\u001b[0m\u001b[0;34m\u001b[0m\u001b[0m\n\u001b[1;32m      3\u001b[0m \u001b[0mcnorm\u001b[0m \u001b[0;34m=\u001b[0m \u001b[0mmpl\u001b[0m\u001b[0;34m.\u001b[0m\u001b[0mcolors\u001b[0m\u001b[0;34m.\u001b[0m\u001b[0mNormalize\u001b[0m\u001b[0;34m(\u001b[0m\u001b[0mvmin\u001b[0m\u001b[0;34m=\u001b[0m\u001b[0;36m0\u001b[0m\u001b[0;34m,\u001b[0m \u001b[0mvmax\u001b[0m\u001b[0;34m=\u001b[0m\u001b[0;36m6\u001b[0m\u001b[0;34m)\u001b[0m\u001b[0;34m\u001b[0m\u001b[0;34m\u001b[0m\u001b[0m\n\u001b[1;32m      4\u001b[0m \u001b[0;32mfor\u001b[0m \u001b[0md\u001b[0m\u001b[0;34m,\u001b[0m \u001b[0mm\u001b[0m \u001b[0;32min\u001b[0m \u001b[0mmscds\u001b[0m\u001b[0;34m.\u001b[0m\u001b[0mgroupby\u001b[0m\u001b[0;34m(\u001b[0m\u001b[0;34m[\u001b[0m\u001b[0;34m'locus'\u001b[0m\u001b[0;34m,\u001b[0m \u001b[0;34m'meiosis'\u001b[0m\u001b[0;34m,\u001b[0m \u001b[0;34m'delta'\u001b[0m\u001b[0;34m]\u001b[0m\u001b[0;34m)\u001b[0m\u001b[0;34m[\u001b[0m\u001b[0;34m'mean'\u001b[0m\u001b[0;34m]\u001b[0m\u001b[0;34m:\u001b[0m\u001b[0;34m\u001b[0m\u001b[0;34m\u001b[0m\u001b[0m\n\u001b[1;32m      5\u001b[0m     \u001b[0;32mif\u001b[0m \u001b[0md\u001b[0m\u001b[0;34m[\u001b[0m\u001b[0;36m0\u001b[0m\u001b[0;34m]\u001b[0m \u001b[0;34m!=\u001b[0m \u001b[0;34m'URA3'\u001b[0m\u001b[0;34m:\u001b[0m\u001b[0;34m\u001b[0m\u001b[0;34m\u001b[0m\u001b[0m\n",
      "\u001b[0;31mNameError\u001b[0m: name 'plt' is not defined"
     ]
    }
   ],
   "source": [
    "plt.figure()\n",
    "cmap =  mpl.cm.get_cmap('viridis')\n",
    "cnorm = mpl.colors.Normalize(vmin=0, vmax=6)\n",
    "for d, m in mscds.groupby(['locus', 'meiosis', 'delta'])['mean']:\n",
    "    if d[0] != 'URA3':\n",
    "        continue\n",
    "    if d[2] != 120:\n",
    "        continue\n",
    "    if d[1] not in ['t0', 't3', 't4', 't5', 't6']:\n",
    "        continue\n",
    "    m.hist(histtype='step', normed=1, bins=np.linspace(0, 2.5, 50), color=cmap(cnorm(int(d[1][1]))))\n",
    "    plt.title(d[1])\n",
    "    plt.yscale('log')\n",
    "#     plt.xscale('log')\n",
    "    plt.ylim([0.02, 10])"
   ]
  },
  {
   "cell_type": "code",
   "execution_count": 7,
   "metadata": {},
   "outputs": [
    {
     "name": "stderr",
     "output_type": "stream",
     "text": [
      "/home/bbeltr1/.miniconda/lib/python3.7/site-packages/pandas/plotting/_matplotlib/hist.py:316: MatplotlibDeprecationWarning: \n",
      "The 'normed' kwarg was deprecated in Matplotlib 2.1 and will be removed in 3.1. Use 'density' instead.\n",
      "  ax.hist(values, bins=bins, **kwds)\n"
     ]
    },
    {
     "data": {
      "image/png": "[encoded data removed]",
      "text/plain": [
       "<Figure size 432x288 with 1 Axes>"
      ]
     },
     "metadata": {
      "needs_background": "light"
     },
     "output_type": "display_data"
    }
   ],
   "source": [
    "for d, m in abs_msd.groupby('delta')['mean']:\n",
    "    np.sqrt(m).hist(histtype='step', color='r', normed=1, bins=np.linspace(0, 1.75, 50))\n",
    "for d, m in mscds.groupby('delta')['mean']:\n",
    "    np.sqrt(m).hist(histtype='step', color='g', normed=1, bins=np.linspace(0, 1.75, 50))\n",
    "    "
   ]
  },
  {
   "cell_type": "markdown",
   "metadata": {},
   "source": [
    "### MSDs"
   ]
  },
  {
   "cell_type": "code",
   "execution_count": 34,
   "metadata": {},
   "outputs": [
    {
     "data": {
      "image/png": "[encoded data removed]",
      "text/plain": [
       "<Figure size 432x288 with 1 Axes>"
      ]
     },
     "metadata": {
      "needs_background": "light"
     },
     "output_type": "display_data"
    }
   ],
   "source": [
    "for d, m in abs_msd.groupby(['locus', 'meiosis', 'delta'])['mean']:\n",
    "    if d[0] != 'URA3':\n",
    "        continue\n",
    "    if d[1] != 't0':\n",
    "        continue\n",
    "    m[m>0].hist(histtype='step', bins=np.linspace(0, 2.5, 50))"
   ]
  },
  {
   "cell_type": "code",
   "execution_count": 35,
   "metadata": {},
   "outputs": [
    {
     "data": {
      "image/png": "[encoded data removed]",
      "text/plain": [
       "<Figure size 432x288 with 1 Axes>"
      ]
     },
     "metadata": {
      "needs_background": "light"
     },
     "output_type": "display_data"
    }
   ],
   "source": [
    "for d, m in abs_msd.groupby(['locus', 'meiosis', 'delta'])['mean']:\n",
    "    if d[0] != 'URA3':\n",
    "        continue\n",
    "    if d[1] != 't3':\n",
    "        continue\n",
    "    m[m>0].hist(histtype='step', bins=np.linspace(0, 2.5, 50))"
   ]
  },
  {
   "cell_type": "code",
   "execution_count": 36,
   "metadata": {},
   "outputs": [
    {
     "data": {
      "image/png": "[encoded data removed]",
      "text/plain": [
       "<Figure size 432x288 with 1 Axes>"
      ]
     },
     "metadata": {
      "needs_background": "light"
     },
     "output_type": "display_data"
    }
   ],
   "source": [
    "for d, m in abs_msd.groupby(['locus', 'meiosis', 'delta'])['mean']:\n",
    "    if d[0] != 'URA3':\n",
    "        continue\n",
    "    if d[1] != 't5':\n",
    "        continue\n",
    "    m[m>0].hist(histtype='step', bins=np.linspace(0, 2.5, 50))"
   ]
  },
  {
   "cell_type": "markdown",
   "metadata": {},
   "source": [
    "## TODO: figure out what the above histogram should look like if the loops locations are Poisson (as in simulation)"
   ]
  },
  {
   "cell_type": "code",
   "execution_count": null,
   "metadata": {},
   "outputs": [],
   "source": [
    "abs_ms"
   ]
  },
  {
   "cell_type": "markdown",
   "metadata": {},
   "source": [
    "probability of locus being in a loop of size $n$ is $(1 - f)^{n-1} f$, where $f$ is the \"fraction of beads bound\" (it is uniformly distributed inside this loop).\n",
    "\n",
    "the loop is really just like two entropic strings (made of polymer of lengths $N_\\Delta$ and $N - N_\\Delta$ for a loop of length $N$\n",
    "\n",
    "$$ k_1 = \\frac{3k_B T}{N_\\Delta b^2} $$\n",
    "$$ k_2 = \\frac{3k_B T}{(N - N_\\Delta) b^2} $$\n",
    "\n",
    "so \n",
    "\n",
    "$$ \\langle R^2 \\rangle = \\frac{3k_BT}{k_1 + k_2} = b^2 \\left( \\frac{1}{ 1/N_\\Delta + 1/(N - N_\\Delta) } \\right) $$"
   ]
  },
  {
   "cell_type": "markdown",
   "metadata": {},
   "source": [
    "## Simulation MS(C)Ds"
   ]
  },
  {
   "cell_type": "code",
   "execution_count": null,
   "metadata": {},
   "outputs": [],
   "source": []
  },
  {
   "cell_type": "markdown",
   "metadata": {},
   "source": [
    "## Data MS(C)Ds"
   ]
  },
  {
   "cell_type": "code",
   "execution_count": null,
   "metadata": {},
   "outputs": [],
   "source": [
    "mscds = pd.read_csv('/home/bbeltr1/developer/bbeltr1/developer/multi_locus_analysis/')"
   ]
  }
 ],
 "metadata": {
  "kernelspec": {
   "display_name": "Python 3",
   "language": "python",
   "name": "python3"
  },
  "language_info": {
   "codemirror_mode": {
    "name": "ipython",
    "version": 3
   },
   "file_extension": ".py",
   "mimetype": "text/x-python",
   "name": "python",
   "nbconvert_exporter": "python",
   "pygments_lexer": "ipython3",
   "version": "3.7.3"
  },
  "toc": {
   "toc_cell": true,
   "toc_number_sections": true,
   "toc_threshold": 6,
   "toc_window_display": false
  }
 },
 "nbformat": 4,
 "nbformat_minor": 2
}
